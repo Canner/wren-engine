{
 "cells": [
  {
   "cell_type": "markdown",
   "id": "59089b9e",
   "metadata": {},
   "source": [
    "# Wren Engine Demo\n",
    "\n",
    "This notebook demonstrates the basic usage of the Wren Engine Python API in local environment."
   ]
  },
  {
   "cell_type": "markdown",
   "id": "6d7bcc54",
   "metadata": {},
   "source": [
    "## Import Required Packages"
   ]
  },
  {
   "cell_type": "code",
   "execution_count": null,
   "id": "e2aef715",
   "metadata": {},
   "outputs": [],
   "source": [
    "from app.model.data_source import DataSource\n",
    "from wren import create_session_context"
   ]
  },
  {
   "cell_type": "markdown",
   "id": "b0f804e0",
   "metadata": {},
   "source": [
    "## Configure Data Source\n",
    "Currently supported data sources:\n",
    "- athena\n",
    "- bigquery\n",
    "- canner\n",
    "- clickhouse\n",
    "- mssql\n",
    "- mysql\n",
    "- oracle\n",
    "- postgres\n",
    "- redshift\n",
    "- snowflake\n",
    "- trino\n",
    "- local_file\n",
    "- s3_file\n",
    "- minio_file\n",
    "- gcs_file\n",
    "\n",
    "Refer to [ConnectionInfo](https://docs.getwren.ai/oss/wren_engine_api#tag/AthenaConnectionInfo) for available parameters."
   ]
  },
  {
   "cell_type": "code",
   "execution_count": null,
   "id": "b55b9fa1",
   "metadata": {},
   "outputs": [],
   "source": [
    "# Configure local file data source\n",
    "data_source = DataSource.local_file\n",
    "\n",
    "# Set connection information\n",
    "info = data_source.get_connection_info(\n",
    "    {\n",
    "        \"url\": \"../resources/demo\",\n",
    "        \"format\": \"duckdb\",\n",
    "    }\n",
    ")\n",
    "\n",
    "print(f\"Data source type: {data_source}\")\n",
    "print(f\"Connection info: {info}\")"
   ]
  },
  {
   "cell_type": "markdown",
   "id": "ae3e0612",
   "metadata": {},
   "source": [
    "## Create Wren Session"
   ]
  },
  {
   "cell_type": "code",
   "execution_count": null,
   "id": "78a02b04",
   "metadata": {},
   "outputs": [],
   "source": [
    "# Create session context\n",
    "session = create_session_context(\n",
    "    data_source=\"local_file\",\n",
    "    connection_info=info,\n",
    "    mdl_path=\"../resources/demo/jaffle_shop_mdl.json\",\n",
    ")\n",
    "\n",
    "print(\"Session created successfully!\")"
   ]
  },
  {
   "cell_type": "markdown",
   "id": "fcf8fd52",
   "metadata": {},
   "source": [
    "## Execute Query"
   ]
  },
  {
   "cell_type": "code",
   "execution_count": null,
   "id": "ec5faea5",
   "metadata": {},
   "outputs": [],
   "source": [
    "# Query customer data\n",
    "task = session.sql(\"select * from customers\").execute()\n",
    "print(\"Show planned SQL: \", task.planned_sql)\n",
    "print(\"Show dialect SQL: \", task.dialect_sql)\n",
    "print(\"Show the arrow table of the result: \\n\", task.results)\n",
    "print(\"Show the formatted JSON result: \\n\", task.formatted_result())"
   ]
  },
  {
   "cell_type": "markdown",
   "id": "e6cb9b86",
   "metadata": {},
   "source": [
    "# Execute Dry Run"
   ]
  },
  {
   "cell_type": "code",
   "execution_count": null,
   "id": "fe0e8723",
   "metadata": {},
   "outputs": [],
   "source": [
    "# Query first 10 customer records\n",
    "task = session.sql(\"select * from customers limit 10\")\n",
    "task.dry_run()\n",
    "print(\"Show planned SQL: \", task.planned_sql)\n",
    "print(\"Show dialect SQL: \", task.dialect_sql)\n",
    "print(\"Dry run executed successfully!\")"
   ]
  },
  {
   "cell_type": "markdown",
   "id": "f5b200e0",
   "metadata": {},
   "source": [
    "# Access Control\n",
    "\n",
    "## Row-Level Access Control\n",
    "In `resources/demo/jaffle_shop_mdl.json`, we set `status_rule` for `orders`.\n",
    "```json\n",
    "{\n",
    "    \"name\": \"status_rule\",\n",
    "    \"requiredProperties\": [\n",
    "        {\n",
    "            \"name\": \"session_status\",\n",
    "            \"required\": true\n",
    "        }\n",
    "    ],\n",
    "    \"condition\": \"status = @session_status\"\n",
    "}\n",
    "```\n",
    "Therefore, we can use `session_status` for access control. By specifying the value of `X-Wren-Variable-Session_Status` in Session Properties, we can control data visibility. `X-Wren-Variable-` is the prefix for Wren Engine Session Properties.\n"
   ]
  },
  {
   "cell_type": "code",
   "execution_count": null,
   "id": "3cca98bf",
   "metadata": {},
   "outputs": [],
   "source": [
    "# Set Session Properties\n",
    "properties = {\"X-Wren-Variable-Session_Status\": \"'completed'\"}\n",
    "task = session.sql(\"select * from orders limit 10\", properties).execute()\n",
    "print(\"Show planned SQL: \\n\", task.planned_sql)\n",
    "print(\"Show dialect SQL: \\n\", task.dialect_sql)\n",
    "print(\"Show the arrow table of the result: \\n\", task.results)\n",
    "print(\"Show the formatted JSON result: \\n\", task.formatted_result())"
   ]
  },
  {
   "cell_type": "markdown",
   "id": "3d60d01b",
   "metadata": {},
   "source": [
    "## Column-Level Access Control\n",
    "In `resources/demo/jaffle_shop_mdl.json`, we set the `credit_card_access` rule for `orders.credit_card_amount`.\n",
    "```json\n",
    "{\n",
    "    \"name\": \"credit_card_amount\",\n",
    "    \"type\": \"double\",\n",
    "    \"columnLevelAccessControl\": {\n",
    "        \"name\": \"credit_card_access\",\n",
    "        \"requiredProperties\": [\n",
    "            {\n",
    "                \"name\": \"session_level\",\n",
    "                \"required\": false\n",
    "            }\n",
    "        ],\n",
    "        \"operator\": \"GREATER_THAN\",\n",
    "        \"threshold\": \"3\"\n",
    "    },\n",
    "    \"properties\": {\n",
    "    \"description\": \"Amount of the order (AUD) paid for by credit card\"\n",
    "    }\n",
    "},\n",
    "```\n",
    "When `session_level` is greater than `3`, `credit_card_amount` can be accessed.\n"
   ]
  },
  {
   "cell_type": "code",
   "execution_count": null,
   "id": "965b5ca9",
   "metadata": {},
   "outputs": [],
   "source": [
    "# credit_card_amount can be accessed when Session_Level is greater than or equal to 3\n",
    "properties = {\"X-Wren-Variable-Session_Level\": \"4\"}\n",
    "task = session.sql(\n",
    "    \"select credit_card_amount from orders limit 10\", properties\n",
    ").execute()\n",
    "print(\"Show planned SQL: \", task.planned_sql)\n",
    "print(\"Show dialect SQL: \", task.dialect_sql)\n",
    "print(\"Show the arrow table of the result: \\n\", task.results)\n",
    "print(\"Show the formatted JSON result: \\n\", task.formatted_result())"
   ]
  },
  {
   "cell_type": "code",
   "execution_count": null,
   "id": "16f587a6",
   "metadata": {},
   "outputs": [],
   "source": [
    "# credit_card_amount can't be accessed when Session_Level is less than 3\n",
    "try:\n",
    "    properties = {\"X-Wren-Variable-Session_Level\": \"1\"}\n",
    "    task = session.sql(\n",
    "        \"select credit_card_amount from orders limit 10\", properties\n",
    "    ).execute()\n",
    "except Exception as e:\n",
    "    print(\"Error occurred:\", e)"
   ]
  },
  {
   "cell_type": "markdown",
   "id": "10e88618",
   "metadata": {},
   "source": [
    "## Data Visualization with Pandas (Optional)\n",
    "`Task.results` is a `pyarrow.Table` that can be converted to commonly used DataFrame through `to_pandas` or other APIs for further processing."
   ]
  },
  {
   "cell_type": "code",
   "execution_count": null,
   "id": "7dd87bc5",
   "metadata": {},
   "outputs": [],
   "source": [
    "task = session.sql(\"select * from customers limit 10\").execute()\n",
    "# Assuming result has a method to convert to DataFrame\n",
    "df = task.results.to_pandas()  # This method may need adjustment\n",
    "print(\"DataFrame preview:\")\n",
    "print(df.head())"
   ]
  }
 ],
 "metadata": {
  "kernelspec": {
   "display_name": ".venv",
   "language": "python",
   "name": "python3"
  },
  "language_info": {
   "codemirror_mode": {
    "name": "ipython",
    "version": 3
   },
   "file_extension": ".py",
   "mimetype": "text/x-python",
   "name": "python",
   "nbconvert_exporter": "python",
   "pygments_lexer": "ipython3",
   "version": "3.11.11"
  }
 },
 "nbformat": 4,
 "nbformat_minor": 5
}
